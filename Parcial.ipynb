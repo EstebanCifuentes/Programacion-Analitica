{
  "nbformat": 4,
  "nbformat_minor": 0,
  "metadata": {
    "colab": {
      "provenance": []
    },
    "kernelspec": {
      "name": "python3",
      "display_name": "Python 3"
    },
    "language_info": {
      "name": "python"
    }
  },
  "cells": [
    {
      "cell_type": "code",
      "execution_count": 13,
      "metadata": {
        "id": "GdhJQYpw3JiS"
      },
      "outputs": [],
      "source": [
        "import pandas as pd\n",
        "import matplotlib.pylab as plt\n",
        "from google.colab import drive"
      ]
    },
    {
      "cell_type": "code",
      "source": [
        "drive.mount('/content/drive')"
      ],
      "metadata": {
        "colab": {
          "base_uri": "https://localhost:8080/"
        },
        "id": "09kvjCAx7KGs",
        "outputId": "4090eb11-c99b-43bc-e536-8f5996a00d67"
      },
      "execution_count": 14,
      "outputs": [
        {
          "output_type": "stream",
          "name": "stdout",
          "text": [
            "Mounted at /content/drive\n"
          ]
        }
      ]
    },
    {
      "cell_type": "code",
      "source": [
        "RedWine='/content/drive/MyDrive/wine/winequality-red.csv'\n",
        "WhiteWine='/content/drive/MyDrive/wine/winequality-white.csv'"
      ],
      "metadata": {
        "id": "s-u8j1yN7ZvL"
      },
      "execution_count": 16,
      "outputs": []
    },
    {
      "cell_type": "code",
      "source": [
        "wine_names=['fixed acidity','volatile acidity','citric acid','residual sugar','chlorides','free sulfur dioxide','total sulfur dioxide','density','pH','sulphates','alcohol','quality']"
      ],
      "metadata": {
        "id": "VrYLFVmE5Qi5"
      },
      "execution_count": 17,
      "outputs": []
    },
    {
      "cell_type": "code",
      "source": [
        "df_red = pd.read_csv(RedWine, names = wine_names,sep=';',header=0)\n",
        "df_white = pd.read_csv(WhiteWine, names = wine_names,sep=';',header=0)"
      ],
      "metadata": {
        "id": "gAInP3K941no"
      },
      "execution_count": 30,
      "outputs": []
    },
    {
      "cell_type": "code",
      "source": [
        "df_red.head()"
      ],
      "metadata": {
        "colab": {
          "base_uri": "https://localhost:8080/",
          "height": 250
        },
        "id": "IxeD7sGu59pZ",
        "outputId": "f9f577fb-a4d1-49f2-b877-e6b8b52d2a0f"
      },
      "execution_count": 31,
      "outputs": [
        {
          "output_type": "execute_result",
          "data": {
            "text/plain": [
              "   fixed acidity  volatile acidity  citric acid  residual sugar  chlorides  \\\n",
              "0            7.4              0.70         0.00             1.9      0.076   \n",
              "1            7.8              0.88         0.00             2.6      0.098   \n",
              "2            7.8              0.76         0.04             2.3      0.092   \n",
              "3           11.2              0.28         0.56             1.9      0.075   \n",
              "4            7.4              0.70         0.00             1.9      0.076   \n",
              "\n",
              "   free sulfur dioxide  total sulfur dioxide  density    pH  sulphates  \\\n",
              "0                 11.0                  34.0   0.9978  3.51       0.56   \n",
              "1                 25.0                  67.0   0.9968  3.20       0.68   \n",
              "2                 15.0                  54.0   0.9970  3.26       0.65   \n",
              "3                 17.0                  60.0   0.9980  3.16       0.58   \n",
              "4                 11.0                  34.0   0.9978  3.51       0.56   \n",
              "\n",
              "   alcohol  quality  \n",
              "0      9.4        5  \n",
              "1      9.8        5  \n",
              "2      9.8        5  \n",
              "3      9.8        6  \n",
              "4      9.4        5  "
            ],
            "text/html": [
              "\n",
              "  <div id=\"df-c0008bef-f489-4b5b-9c2e-47282919f139\">\n",
              "    <div class=\"colab-df-container\">\n",
              "      <div>\n",
              "<style scoped>\n",
              "    .dataframe tbody tr th:only-of-type {\n",
              "        vertical-align: middle;\n",
              "    }\n",
              "\n",
              "    .dataframe tbody tr th {\n",
              "        vertical-align: top;\n",
              "    }\n",
              "\n",
              "    .dataframe thead th {\n",
              "        text-align: right;\n",
              "    }\n",
              "</style>\n",
              "<table border=\"1\" class=\"dataframe\">\n",
              "  <thead>\n",
              "    <tr style=\"text-align: right;\">\n",
              "      <th></th>\n",
              "      <th>fixed acidity</th>\n",
              "      <th>volatile acidity</th>\n",
              "      <th>citric acid</th>\n",
              "      <th>residual sugar</th>\n",
              "      <th>chlorides</th>\n",
              "      <th>free sulfur dioxide</th>\n",
              "      <th>total sulfur dioxide</th>\n",
              "      <th>density</th>\n",
              "      <th>pH</th>\n",
              "      <th>sulphates</th>\n",
              "      <th>alcohol</th>\n",
              "      <th>quality</th>\n",
              "    </tr>\n",
              "  </thead>\n",
              "  <tbody>\n",
              "    <tr>\n",
              "      <th>0</th>\n",
              "      <td>7.4</td>\n",
              "      <td>0.70</td>\n",
              "      <td>0.00</td>\n",
              "      <td>1.9</td>\n",
              "      <td>0.076</td>\n",
              "      <td>11.0</td>\n",
              "      <td>34.0</td>\n",
              "      <td>0.9978</td>\n",
              "      <td>3.51</td>\n",
              "      <td>0.56</td>\n",
              "      <td>9.4</td>\n",
              "      <td>5</td>\n",
              "    </tr>\n",
              "    <tr>\n",
              "      <th>1</th>\n",
              "      <td>7.8</td>\n",
              "      <td>0.88</td>\n",
              "      <td>0.00</td>\n",
              "      <td>2.6</td>\n",
              "      <td>0.098</td>\n",
              "      <td>25.0</td>\n",
              "      <td>67.0</td>\n",
              "      <td>0.9968</td>\n",
              "      <td>3.20</td>\n",
              "      <td>0.68</td>\n",
              "      <td>9.8</td>\n",
              "      <td>5</td>\n",
              "    </tr>\n",
              "    <tr>\n",
              "      <th>2</th>\n",
              "      <td>7.8</td>\n",
              "      <td>0.76</td>\n",
              "      <td>0.04</td>\n",
              "      <td>2.3</td>\n",
              "      <td>0.092</td>\n",
              "      <td>15.0</td>\n",
              "      <td>54.0</td>\n",
              "      <td>0.9970</td>\n",
              "      <td>3.26</td>\n",
              "      <td>0.65</td>\n",
              "      <td>9.8</td>\n",
              "      <td>5</td>\n",
              "    </tr>\n",
              "    <tr>\n",
              "      <th>3</th>\n",
              "      <td>11.2</td>\n",
              "      <td>0.28</td>\n",
              "      <td>0.56</td>\n",
              "      <td>1.9</td>\n",
              "      <td>0.075</td>\n",
              "      <td>17.0</td>\n",
              "      <td>60.0</td>\n",
              "      <td>0.9980</td>\n",
              "      <td>3.16</td>\n",
              "      <td>0.58</td>\n",
              "      <td>9.8</td>\n",
              "      <td>6</td>\n",
              "    </tr>\n",
              "    <tr>\n",
              "      <th>4</th>\n",
              "      <td>7.4</td>\n",
              "      <td>0.70</td>\n",
              "      <td>0.00</td>\n",
              "      <td>1.9</td>\n",
              "      <td>0.076</td>\n",
              "      <td>11.0</td>\n",
              "      <td>34.0</td>\n",
              "      <td>0.9978</td>\n",
              "      <td>3.51</td>\n",
              "      <td>0.56</td>\n",
              "      <td>9.4</td>\n",
              "      <td>5</td>\n",
              "    </tr>\n",
              "  </tbody>\n",
              "</table>\n",
              "</div>\n",
              "      <button class=\"colab-df-convert\" onclick=\"convertToInteractive('df-c0008bef-f489-4b5b-9c2e-47282919f139')\"\n",
              "              title=\"Convert this dataframe to an interactive table.\"\n",
              "              style=\"display:none;\">\n",
              "        \n",
              "  <svg xmlns=\"http://www.w3.org/2000/svg\" height=\"24px\"viewBox=\"0 0 24 24\"\n",
              "       width=\"24px\">\n",
              "    <path d=\"M0 0h24v24H0V0z\" fill=\"none\"/>\n",
              "    <path d=\"M18.56 5.44l.94 2.06.94-2.06 2.06-.94-2.06-.94-.94-2.06-.94 2.06-2.06.94zm-11 1L8.5 8.5l.94-2.06 2.06-.94-2.06-.94L8.5 2.5l-.94 2.06-2.06.94zm10 10l.94 2.06.94-2.06 2.06-.94-2.06-.94-.94-2.06-.94 2.06-2.06.94z\"/><path d=\"M17.41 7.96l-1.37-1.37c-.4-.4-.92-.59-1.43-.59-.52 0-1.04.2-1.43.59L10.3 9.45l-7.72 7.72c-.78.78-.78 2.05 0 2.83L4 21.41c.39.39.9.59 1.41.59.51 0 1.02-.2 1.41-.59l7.78-7.78 2.81-2.81c.8-.78.8-2.07 0-2.86zM5.41 20L4 18.59l7.72-7.72 1.47 1.35L5.41 20z\"/>\n",
              "  </svg>\n",
              "      </button>\n",
              "      \n",
              "  <style>\n",
              "    .colab-df-container {\n",
              "      display:flex;\n",
              "      flex-wrap:wrap;\n",
              "      gap: 12px;\n",
              "    }\n",
              "\n",
              "    .colab-df-convert {\n",
              "      background-color: #E8F0FE;\n",
              "      border: none;\n",
              "      border-radius: 50%;\n",
              "      cursor: pointer;\n",
              "      display: none;\n",
              "      fill: #1967D2;\n",
              "      height: 32px;\n",
              "      padding: 0 0 0 0;\n",
              "      width: 32px;\n",
              "    }\n",
              "\n",
              "    .colab-df-convert:hover {\n",
              "      background-color: #E2EBFA;\n",
              "      box-shadow: 0px 1px 2px rgba(60, 64, 67, 0.3), 0px 1px 3px 1px rgba(60, 64, 67, 0.15);\n",
              "      fill: #174EA6;\n",
              "    }\n",
              "\n",
              "    [theme=dark] .colab-df-convert {\n",
              "      background-color: #3B4455;\n",
              "      fill: #D2E3FC;\n",
              "    }\n",
              "\n",
              "    [theme=dark] .colab-df-convert:hover {\n",
              "      background-color: #434B5C;\n",
              "      box-shadow: 0px 1px 3px 1px rgba(0, 0, 0, 0.15);\n",
              "      filter: drop-shadow(0px 1px 2px rgba(0, 0, 0, 0.3));\n",
              "      fill: #FFFFFF;\n",
              "    }\n",
              "  </style>\n",
              "\n",
              "      <script>\n",
              "        const buttonEl =\n",
              "          document.querySelector('#df-c0008bef-f489-4b5b-9c2e-47282919f139 button.colab-df-convert');\n",
              "        buttonEl.style.display =\n",
              "          google.colab.kernel.accessAllowed ? 'block' : 'none';\n",
              "\n",
              "        async function convertToInteractive(key) {\n",
              "          const element = document.querySelector('#df-c0008bef-f489-4b5b-9c2e-47282919f139');\n",
              "          const dataTable =\n",
              "            await google.colab.kernel.invokeFunction('convertToInteractive',\n",
              "                                                     [key], {});\n",
              "          if (!dataTable) return;\n",
              "\n",
              "          const docLinkHtml = 'Like what you see? Visit the ' +\n",
              "            '<a target=\"_blank\" href=https://colab.research.google.com/notebooks/data_table.ipynb>data table notebook</a>'\n",
              "            + ' to learn more about interactive tables.';\n",
              "          element.innerHTML = '';\n",
              "          dataTable['output_type'] = 'display_data';\n",
              "          await google.colab.output.renderOutput(dataTable, element);\n",
              "          const docLink = document.createElement('div');\n",
              "          docLink.innerHTML = docLinkHtml;\n",
              "          element.appendChild(docLink);\n",
              "        }\n",
              "      </script>\n",
              "    </div>\n",
              "  </div>\n",
              "  "
            ]
          },
          "metadata": {},
          "execution_count": 31
        }
      ]
    },
    {
      "cell_type": "code",
      "source": [
        "missing_data = df_red.isnull()\n",
        "for column in missing_data.columns.values.tolist():\n",
        "    print(column)\n",
        "    print (missing_data[column].value_counts())\n",
        "    print(\"\")    "
      ],
      "metadata": {
        "colab": {
          "base_uri": "https://localhost:8080/"
        },
        "id": "cs7yU91pGuyW",
        "outputId": "75a44eae-229a-4f5a-ce01-98fd64e53d7e"
      },
      "execution_count": 58,
      "outputs": [
        {
          "output_type": "stream",
          "name": "stdout",
          "text": [
            "fixed acidity\n",
            "False    1599\n",
            "Name: fixed acidity, dtype: int64\n",
            "\n",
            "volatile acidity\n",
            "False    1599\n",
            "Name: volatile acidity, dtype: int64\n",
            "\n",
            "citric acid\n",
            "False    1599\n",
            "Name: citric acid, dtype: int64\n",
            "\n",
            "residual sugar\n",
            "False    1599\n",
            "Name: residual sugar, dtype: int64\n",
            "\n",
            "chlorides\n",
            "False    1599\n",
            "Name: chlorides, dtype: int64\n",
            "\n",
            "free sulfur dioxide\n",
            "False    1599\n",
            "Name: free sulfur dioxide, dtype: int64\n",
            "\n",
            "total sulfur dioxide\n",
            "False    1599\n",
            "Name: total sulfur dioxide, dtype: int64\n",
            "\n",
            "density\n",
            "False    1599\n",
            "Name: density, dtype: int64\n",
            "\n",
            "pH\n",
            "False    1599\n",
            "Name: pH, dtype: int64\n",
            "\n",
            "sulphates\n",
            "False    1599\n",
            "Name: sulphates, dtype: int64\n",
            "\n",
            "alcohol\n",
            "False    1599\n",
            "Name: alcohol, dtype: int64\n",
            "\n",
            "quality\n",
            "False    1599\n",
            "Name: quality, dtype: int64\n",
            "\n"
          ]
        }
      ]
    },
    {
      "cell_type": "code",
      "source": [
        "missing_data = df_white.isnull()\n",
        "for column in missing_data.columns.values.tolist():\n",
        "    print(column)\n",
        "    print (missing_data[column].value_counts())\n",
        "    print(\"\")    "
      ],
      "metadata": {
        "colab": {
          "base_uri": "https://localhost:8080/"
        },
        "id": "JfVMU-JFG4_0",
        "outputId": "b226ddaf-7863-49fd-a2df-e16b6bf88186"
      },
      "execution_count": 59,
      "outputs": [
        {
          "output_type": "stream",
          "name": "stdout",
          "text": [
            "fixed acidity\n",
            "False    4898\n",
            "Name: fixed acidity, dtype: int64\n",
            "\n",
            "volatile acidity\n",
            "False    4898\n",
            "Name: volatile acidity, dtype: int64\n",
            "\n",
            "citric acid\n",
            "False    4898\n",
            "Name: citric acid, dtype: int64\n",
            "\n",
            "residual sugar\n",
            "False    4898\n",
            "Name: residual sugar, dtype: int64\n",
            "\n",
            "chlorides\n",
            "False    4898\n",
            "Name: chlorides, dtype: int64\n",
            "\n",
            "free sulfur dioxide\n",
            "False    4898\n",
            "Name: free sulfur dioxide, dtype: int64\n",
            "\n",
            "total sulfur dioxide\n",
            "False    4898\n",
            "Name: total sulfur dioxide, dtype: int64\n",
            "\n",
            "density\n",
            "False    4898\n",
            "Name: density, dtype: int64\n",
            "\n",
            "pH\n",
            "False    4898\n",
            "Name: pH, dtype: int64\n",
            "\n",
            "sulphates\n",
            "False    4898\n",
            "Name: sulphates, dtype: int64\n",
            "\n",
            "alcohol\n",
            "False    4898\n",
            "Name: alcohol, dtype: int64\n",
            "\n",
            "quality\n",
            "False    4898\n",
            "Name: quality, dtype: int64\n",
            "\n"
          ]
        }
      ]
    },
    {
      "cell_type": "markdown",
      "source": [
        "No existe ningun dato Nulo, por lo que no se elimina ni se cambia ninguna fila o clumna"
      ],
      "metadata": {
        "id": "Ajz2w9ZwG8Xc"
      }
    },
    {
      "cell_type": "code",
      "source": [
        "df_red.dtypes"
      ],
      "metadata": {
        "colab": {
          "base_uri": "https://localhost:8080/"
        },
        "id": "P1niE2Fa-Mnk",
        "outputId": "7ca2e191-ccbb-49e8-ebac-ce5f31903eb2"
      },
      "execution_count": 29,
      "outputs": [
        {
          "output_type": "execute_result",
          "data": {
            "text/plain": [
              "fixed acidity           object\n",
              "volatile acidity        object\n",
              "citric acid             object\n",
              "residual sugar          object\n",
              "chlorides               object\n",
              "free sulfur dioxide     object\n",
              "total sulfur dioxide    object\n",
              "density                 object\n",
              "pH                      object\n",
              "sulphates               object\n",
              "alcohol                 object\n",
              "quality                 object\n",
              "dtype: object"
            ]
          },
          "metadata": {},
          "execution_count": 29
        }
      ]
    },
    {
      "cell_type": "markdown",
      "source": [
        "Los tipos de datos de cada columna estan en tipo objeto y es mas coneniente tenerlos en tipo float por lo que se decide cambiarlos"
      ],
      "metadata": {
        "id": "JN3IONIlHJ60"
      }
    },
    {
      "cell_type": "code",
      "source": [
        "df_red[['fixed acidity','volatile acidity','citric acid','residual sugar','chlorides','free sulfur dioxide','total sulfur dioxide','density','pH','sulphates','alcohol','quality']]=df_red[['fixed acidity','volatile acidity','citric acid','residual sugar','chlorides','free sulfur dioxide','total sulfur dioxide','density','pH','sulphates','alcohol','quality']].astype('float')"
      ],
      "metadata": {
        "id": "lkfjFJSF-1sN"
      },
      "execution_count": 32,
      "outputs": []
    },
    {
      "cell_type": "code",
      "source": [
        "df_white[['fixed acidity','volatile acidity','citric acid','residual sugar','chlorides','free sulfur dioxide','total sulfur dioxide','density','pH','sulphates','alcohol','quality']]=df_white[['fixed acidity','volatile acidity','citric acid','residual sugar','chlorides','free sulfur dioxide','total sulfur dioxide','density','pH','sulphates','alcohol','quality']].astype('float')"
      ],
      "metadata": {
        "id": "m9H8xrl6_SaV"
      },
      "execution_count": 33,
      "outputs": []
    },
    {
      "cell_type": "code",
      "source": [
        "df_red.dtypes"
      ],
      "metadata": {
        "colab": {
          "base_uri": "https://localhost:8080/"
        },
        "id": "ghQC1-eF_YWj",
        "outputId": "6e23586e-6931-408c-e47a-4b72aa1233f6"
      },
      "execution_count": 34,
      "outputs": [
        {
          "output_type": "execute_result",
          "data": {
            "text/plain": [
              "fixed acidity           float64\n",
              "volatile acidity        float64\n",
              "citric acid             float64\n",
              "residual sugar          float64\n",
              "chlorides               float64\n",
              "free sulfur dioxide     float64\n",
              "total sulfur dioxide    float64\n",
              "density                 float64\n",
              "pH                      float64\n",
              "sulphates               float64\n",
              "alcohol                 float64\n",
              "quality                 float64\n",
              "dtype: object"
            ]
          },
          "metadata": {},
          "execution_count": 34
        }
      ]
    },
    {
      "cell_type": "code",
      "source": [
        "%matplotlib inline\n",
        "import matplotlib as plt\n",
        "from matplotlib import pyplot"
      ],
      "metadata": {
        "id": "DCx8hr-UBGjy"
      },
      "execution_count": 38,
      "outputs": []
    },
    {
      "cell_type": "code",
      "source": [
        "plt.pyplot.hist(df_red['alcohol'])\n",
        "plt.pyplot.xlabel('alcohol')\n",
        "plt.pyplot.ylabel('count')\n",
        "plt.pyplot.title(\"alcohol in red wine\")"
      ],
      "metadata": {
        "colab": {
          "base_uri": "https://localhost:8080/",
          "height": 489
        },
        "id": "VOF29AVcBeK6",
        "outputId": "048b6439-4413-4415-f210-8025cce06340"
      },
      "execution_count": 47,
      "outputs": [
        {
          "output_type": "execute_result",
          "data": {
            "text/plain": [
              "Text(0.5, 1.0, 'alcohol in red wine')"
            ]
          },
          "metadata": {},
          "execution_count": 47
        },
        {
          "output_type": "display_data",
          "data": {
            "text/plain": [
              "<Figure size 640x480 with 1 Axes>"
            ],
            "image/png": "[encoded data removed]"
          },
          "metadata": {}
        }
      ]
    },
    {
      "cell_type": "code",
      "source": [
        "plt.pyplot.hist(df_white['alcohol'])\n",
        "plt.pyplot.xlabel('alcohol')\n",
        "plt.pyplot.ylabel('count')\n",
        "plt.pyplot.title(\"alcohol in white wine\")"
      ],
      "metadata": {
        "colab": {
          "base_uri": "https://localhost:8080/",
          "height": 489
        },
        "id": "okadMQMZCqnN",
        "outputId": "67dffc84-66e4-4cf7-8b3e-d5cad3f1ccb2"
      },
      "execution_count": 44,
      "outputs": [
        {
          "output_type": "execute_result",
          "data": {
            "text/plain": [
              "Text(0.5, 1.0, 'alcohol in white wine')"
            ]
          },
          "metadata": {},
          "execution_count": 44
        },
        {
          "output_type": "display_data",
          "data": {
            "text/plain": [
              "<Figure size 640x480 with 1 Axes>"
            ],
            "image/png": "[encoded data removed]"
          },
          "metadata": {}
        }
      ]
    },
    {
      "cell_type": "code",
      "source": [
        "avg_alcohol_red=df_red['alcohol'].astype('float').mean(axis=0)\n",
        "print('media de alcohol en vino rojo',avg_alcohol_red)\n",
        "avg_alcohol_white=df_white['alcohol'].astype('float').mean(axis=0)\n",
        "print('media de alcohol en vino blanco',avg_alcohol_white)"
      ],
      "metadata": {
        "colab": {
          "base_uri": "https://localhost:8080/"
        },
        "id": "aX5iNFtrBePy",
        "outputId": "36e9da7f-4b34-4a7e-aedf-c8803d227366"
      },
      "execution_count": 46,
      "outputs": [
        {
          "output_type": "stream",
          "name": "stdout",
          "text": [
            "media de alcohol en vino rojo 10.422983114446529\n",
            "media de alcohol en vino blanco 10.514267047774602\n"
          ]
        }
      ]
    },
    {
      "cell_type": "code",
      "source": [
        "plt.pyplot.hist(df_red['pH'])\n",
        "plt.pyplot.xlabel('pH')\n",
        "plt.pyplot.ylabel('count')\n",
        "plt.pyplot.title(\"'pH' in red wine\")"
      ],
      "metadata": {
        "colab": {
          "base_uri": "https://localhost:8080/",
          "height": 489
        },
        "id": "BVfbv7ZnDt6U",
        "outputId": "76faaa28-1725-413c-a935-223fe0e923b1"
      },
      "execution_count": 50,
      "outputs": [
        {
          "output_type": "execute_result",
          "data": {
            "text/plain": [
              "Text(0.5, 1.0, \"'pH' in red wine\")"
            ]
          },
          "metadata": {},
          "execution_count": 50
        },
        {
          "output_type": "display_data",
          "data": {
            "text/plain": [
              "<Figure size 640x480 with 1 Axes>"
            ],
            "image/png": "[encoded data removed]"
          },
          "metadata": {}
        }
      ]
    },
    {
      "cell_type": "code",
      "source": [
        "plt.pyplot.hist(df_white['pH'])\n",
        "plt.pyplot.xlabel('pH')\n",
        "plt.pyplot.ylabel('count')\n",
        "plt.pyplot.title(\"pH in white wine\")"
      ],
      "metadata": {
        "colab": {
          "base_uri": "https://localhost:8080/",
          "height": 489
        },
        "id": "vwK65CLYEGWV",
        "outputId": "f3d7a8ca-2c36-4343-ce36-115ca3958a26"
      },
      "execution_count": 51,
      "outputs": [
        {
          "output_type": "execute_result",
          "data": {
            "text/plain": [
              "Text(0.5, 1.0, 'pH in white wine')"
            ]
          },
          "metadata": {},
          "execution_count": 51
        },
        {
          "output_type": "display_data",
          "data": {
            "text/plain": [
              "<Figure size 640x480 with 1 Axes>"
            ],
            "image/png": "[encoded data removed]"
          },
          "metadata": {}
        }
      ]
    },
    {
      "cell_type": "code",
      "source": [
        "avg_ph_red=df_red['pH'].astype('float').mean(axis=0)\n",
        "print('media de pH en vino rojo',avg_alcohol_red)\n",
        "avg_ph_white=df_white['pH'].astype('float').mean(axis=0)\n",
        "print('media de pH en vino blanco',avg_alcohol_white)"
      ],
      "metadata": {
        "colab": {
          "base_uri": "https://localhost:8080/"
        },
        "id": "cSrWKrPuENk9",
        "outputId": "a877ee34-de78-4a52-bbe7-4bd13dcc9b86"
      },
      "execution_count": 56,
      "outputs": [
        {
          "output_type": "stream",
          "name": "stdout",
          "text": [
            "media de pH en vino rojo 3.3111131957473416\n",
            "media de pH en vino blanco 3.1882666394446715\n"
          ]
        }
      ]
    },
    {
      "cell_type": "code",
      "source": [
        "plt.pyplot.hist(df_red['residual sugar'])\n",
        "plt.pyplot.xlabel('residual sugar')\n",
        "plt.pyplot.ylabel('count')\n",
        "plt.pyplot.title(\"residual sugar in red wine\")"
      ],
      "metadata": {
        "colab": {
          "base_uri": "https://localhost:8080/",
          "height": 489
        },
        "id": "YbSenysHFDJM",
        "outputId": "be6bd272-f71d-4c51-d546-4f449e3ae50c"
      },
      "execution_count": 53,
      "outputs": [
        {
          "output_type": "execute_result",
          "data": {
            "text/plain": [
              "Text(0.5, 1.0, 'residual sugar in red wine')"
            ]
          },
          "metadata": {},
          "execution_count": 53
        },
        {
          "output_type": "display_data",
          "data": {
            "text/plain": [
              "<Figure size 640x480 with 1 Axes>"
            ],
            "image/png": "[encoded data removed]"
          },
          "metadata": {}
        }
      ]
    },
    {
      "cell_type": "code",
      "source": [
        "plt.pyplot.hist(df_white['residual sugar'])\n",
        "plt.pyplot.xlabel('residual sugar')\n",
        "plt.pyplot.ylabel('count')\n",
        "plt.pyplot.title(\"residual sugar in white wine\")"
      ],
      "metadata": {
        "colab": {
          "base_uri": "https://localhost:8080/",
          "height": 489
        },
        "id": "gO4XNNpyFNrD",
        "outputId": "3d67af57-3ac2-4c9e-80c8-33270298cd13"
      },
      "execution_count": 54,
      "outputs": [
        {
          "output_type": "execute_result",
          "data": {
            "text/plain": [
              "Text(0.5, 1.0, 'residual sugar in white wine')"
            ]
          },
          "metadata": {},
          "execution_count": 54
        },
        {
          "output_type": "display_data",
          "data": {
            "text/plain": [
              "<Figure size 640x480 with 1 Axes>"
            ],
            "image/png": "[encoded data removed]"
          },
          "metadata": {}
        }
      ]
    },
    {
      "cell_type": "code",
      "source": [
        "avg_sugar_red=df_red['residual sugar'].astype('float').mean(axis=0)\n",
        "print('media de residual sugar en vino rojo',avg_alcohol_red)\n",
        "avg_sugar_white=df_white['residual sugar'].astype('float').mean(axis=0)\n",
        "print('media de residual sugar en vino blanco',avg_alcohol_white)"
      ],
      "metadata": {
        "colab": {
          "base_uri": "https://localhost:8080/"
        },
        "id": "xP-txQJCFhHj",
        "outputId": "c2bc12f5-08e5-4c59-e1b3-e434de4174e2"
      },
      "execution_count": 57,
      "outputs": [
        {
          "output_type": "stream",
          "name": "stdout",
          "text": [
            "media de residual sugar en vino rojo 3.3111131957473416\n",
            "media de residual sugar en vino blanco 3.1882666394446715\n"
          ]
        }
      ]
    },
    {
      "cell_type": "markdown",
      "source": [
        "\n",
        "Conclusiones   \n",
        "\n",
        "*   La media del alcohol en los vinos blancos es mayor que en los vinos rojos\n",
        "*   El pH es mas alcalino (Mas pH) en los vinos rojos que en los vinos blancos\n",
        "*   Aunque el residuo de azucar se muestra en el grafico muy similar en ambos vinos,la media es mas elevada en los vinos rojos que en los vinos blancos\n",
        "\n",
        "\n",
        "\n",
        "\n",
        "\n",
        "\n",
        "\n",
        "\n"
      ],
      "metadata": {
        "id": "gxNvx5XHDOwE"
      }
    }
  ]
}